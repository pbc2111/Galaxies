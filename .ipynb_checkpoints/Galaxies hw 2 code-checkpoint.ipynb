{
 "cells": [
  {
   "cell_type": "code",
   "execution_count": 23,
   "metadata": {},
   "outputs": [
    {
     "name": "stdout",
     "output_type": "stream",
     "text": [
      "-25.0078087907\n",
      "315.27728775\n"
     ]
    },
    {
     "data": {
      "image/png": "[encoded data removed]",
      "text/plain": [
       "<Figure size 432x288 with 1 Axes>"
      ]
     },
     "metadata": {},
     "output_type": "display_data"
    }
   ],
   "source": [
    "import math\n",
    "import numpy as np\n",
    "import matplotlib.pyplot as plt\n",
    "%matplotlib inline \n",
    "\n",
    "calzettiFilename = 'Calzetti01'\n",
    "\n",
    "calzettiAttenuation = np.zeros((3813,2))\n",
    "\n",
    "with open(calzettiFilename) as fp:\n",
    "    for i, line in enumerate(fp):\n",
    "        if i != 0:\n",
    "            data = line.split()\n",
    "            calzettiAttenuation[i-1, 0] = data[0]\n",
    "            calzettiAttenuation[i-1, 1] = data[1]\n",
    "\n",
    "#convert from angstroms to microns\n",
    "calzettiAttenuation[:,0] *= 1e-4\n",
    "\n",
    "#E(B − V ) = 0.1 and E(B − V ) = 1.0\n",
    "A_lower = 10 ** (-0.4 * calzettiAttenuation[:,1] * 0.1)\n",
    "\n",
    "#figure out A_v\n",
    "VbandLow = 500 * (1e-3) #in microns\n",
    "VbandHigh = 700 * (1e-3) #in microns\n",
    "\n",
    "maskV = (calzettiAttenuation[:,0] >= .7) & (calzettiAttenuation[:,0] <= .9)\n",
    "Av = calzettiAttenuation[:,1][maskV].sum()\n",
    "maskB = (calzettiAttenuation[:,0] >= .4) & (calzettiAttenuation[:,0] <= .5)\n",
    "Ab = calzettiAttenuation[:,1][maskB].sum()\n",
    "Rv = Av / (Ab-Av)\n",
    "print (Rv)\n",
    "\n",
    "AvFluxFractions = A_lower[mask1].sum()\n",
    "print (AvFluxFractions)\n",
    "\n",
    "#plot Attenuation curves\n",
    "fig = plt.figure()\n",
    "plt.style.use('ggplot')\n",
    "plt.xlabel(r'$\\lambda$')\n",
    "plt.ylabel(r'A$_{\\lambda}$')\n",
    "plt.semilogx(calzettiAttenuation[:,0], A_lower, label = 'E=0.1')\n",
    "plt.semilogx(calzettiAttenuation[:,0], 10** (-0.4 * calzettiAttenuation[:,1]), label = 'E=1')\n",
    "plt.legend()\n",
    "plt.tight_layout()\n",
    "plt.show()\n",
    "\n",
    "fig.savefig(\"Attenuation_lower.pdf\", bbox_inches='tight')"
   ]
  },
  {
   "cell_type": "code",
   "execution_count": null,
   "metadata": {
    "collapsed": true
   },
   "outputs": [],
   "source": []
  }
 ],
 "metadata": {
  "kernelspec": {
   "display_name": "Python 3",
   "language": "python",
   "name": "python3"
  },
  "language_info": {
   "codemirror_mode": {
    "name": "ipython",
    "version": 3
   },
   "file_extension": ".py",
   "mimetype": "text/x-python",
   "name": "python",
   "nbconvert_exporter": "python",
   "pygments_lexer": "ipython3",
   "version": "3.6.6"
  }
 },
 "nbformat": 4,
 "nbformat_minor": 2
}
